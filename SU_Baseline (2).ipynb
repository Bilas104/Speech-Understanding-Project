{
  "nbformat": 4,
  "nbformat_minor": 0,
  "metadata": {
    "colab": {
      "provenance": []
    },
    "kernelspec": {
      "name": "python3",
      "display_name": "Python 3"
    },
    "language_info": {
      "name": "python"
    }
  },
  "cells": [
    {
      "cell_type": "code",
      "execution_count": 11,
      "metadata": {
        "id": "IjRR9muDKOsB"
      },
      "outputs": [],
      "source": [
        "import os\n",
        "import zipfile\n",
        "import joblib\n",
        "import numpy as np\n",
        "import matplotlib.pyplot as plt\n",
        "from sklearn.model_selection import train_test_split, GridSearchCV\n",
        "from sklearn.svm import SVC\n",
        "from sklearn.ensemble import RandomForestClassifier\n",
        "from sklearn.metrics import classification_report, confusion_matrix\n",
        "from utils import load_dataset, build_label_dict"
      ]
    },
    {
      "cell_type": "code",
      "source": [
        "# Path setup for saving artifacts\n",
        "ARTIFACT_DIR = \"/content/su_baseline_artifacts\"\n",
        "MODEL_DIR = os.path.join(ARTIFACT_DIR, \"models\")\n",
        "FEATURE_DIR = os.path.join(ARTIFACT_DIR, \"features\")\n",
        "METRIC_DIR = os.path.join(ARTIFACT_DIR, \"metrics\")\n",
        "PLOT_DIR = os.path.join(ARTIFACT_DIR, \"plots\")"
      ],
      "metadata": {
        "id": "DuXnDemiKrGO"
      },
      "execution_count": 2,
      "outputs": []
    },
    {
      "cell_type": "code",
      "source": [
        "os.makedirs(ARTIFACT_DIR, exist_ok=True)\n",
        "os.makedirs(MODEL_DIR, exist_ok=True)\n",
        "os.makedirs(FEATURE_DIR, exist_ok=True)\n",
        "os.makedirs(METRIC_DIR, exist_ok=True)\n",
        "os.makedirs(PLOT_DIR, exist_ok=True)"
      ],
      "metadata": {
        "id": "rvI5_L4dZGGn"
      },
      "execution_count": 3,
      "outputs": []
    },
    {
      "cell_type": "code",
      "source": [
        "# Download Dataset from Kaggle\n",
        "\n",
        "!mkdir -p ~/.kaggle\n",
        "!cp kaggle.json ~/.kaggle/\n",
        "!chmod 600 ~/.kaggle/kaggle.json\n",
        "\n",
        "!kaggle datasets download -d sangayb/iemocap\n",
        "with zipfile.ZipFile(\"iemocap.zip\", 'r') as zip_ref:\n",
        "    zip_ref.extractall(\"iemocap_data\")"
      ],
      "metadata": {
        "colab": {
          "base_uri": "https://localhost:8080/"
        },
        "id": "X15JpnfWK46I",
        "outputId": "a2c46a4b-ba4f-4d92-9217-8772af67a1b5"
      },
      "execution_count": 5,
      "outputs": [
        {
          "output_type": "stream",
          "name": "stdout",
          "text": [
            "Dataset URL: https://www.kaggle.com/datasets/sangayb/iemocap\n",
            "License(s): CC0-1.0\n"
          ]
        }
      ]
    },
    {
      "cell_type": "code",
      "source": [
        "dataset_root = \"iemocap_data\"\n",
        "sessions = [\"Session1\", \"Session2\", \"Session3\", \"Session4\", \"Session5\"]"
      ],
      "metadata": {
        "id": "G70orRXHXHFY"
      },
      "execution_count": 6,
      "outputs": []
    },
    {
      "cell_type": "code",
      "source": [
        "# Build Label Dictionary\n",
        "label_dict = {}\n",
        "for session in sessions:\n",
        "    eval_path = os.path.join(dataset_root, session, \"dialog\", \"EmoEvaluation\")\n",
        "    session_labels = build_label_dict(eval_path)\n",
        "    label_dict.update(session_labels)\n",
        "\n",
        "print(f\"Total labeled utterances: {len(label_dict)}\")"
      ],
      "metadata": {
        "colab": {
          "base_uri": "https://localhost:8080/"
        },
        "id": "ZSz9hR9xOVge",
        "outputId": "f847f594-b6ee-49dd-e111-df4b63ca925c"
      },
      "execution_count": 7,
      "outputs": [
        {
          "output_type": "stream",
          "name": "stdout",
          "text": [
            "Total labeled utterances: 7532\n"
          ]
        }
      ]
    },
    {
      "cell_type": "code",
      "source": [
        "X, y, speakers = [], [], []\n",
        "for session in sessions:\n",
        "    audio_path = os.path.join(dataset_root, session, \"sentences\", \"wav\")\n",
        "    Xi, yi, si = load_dataset(audio_path, label_dict)\n",
        "    X.extend(Xi)\n",
        "    y.extend(yi)\n",
        "    speakers.extend(si)\n",
        "\n",
        "X = np.array(X)\n",
        "y = np.array(y)\n",
        "speakers = np.array(speakers)\n",
        "\n",
        "np.save(os.path.join(FEATURE_DIR, \"X.npy\"), X)\n",
        "np.save(os.path.join(FEATURE_DIR, \"y.npy\"), y)\n",
        "np.save(os.path.join(FEATURE_DIR, \"speakers.npy\"), speakers)\n",
        "\n",
        "X_train, X_test, y_train, y_test = train_test_split(\n",
        "    X, y, test_size=0.2, random_state=42, stratify=speakers\n",
        ")"
      ],
      "metadata": {
        "id": "zxIEBthKLBbn"
      },
      "execution_count": 13,
      "outputs": []
    },
    {
      "cell_type": "markdown",
      "source": [
        "# Hyperparameter Tuning"
      ],
      "metadata": {
        "id": "mn_zrFAAXaXW"
      }
    },
    {
      "cell_type": "code",
      "source": [
        "# --- SVM Grid ---\n",
        "subset_size = min(1000, len(X_train))\n",
        "X_tune, y_tune = X_train[:subset_size], y_train[:subset_size]\n",
        "\n",
        "svm_params = {\n",
        "    'C': [0.1, 1, 10],\n",
        "    'kernel': ['rbf', 'linear'],\n",
        "    'gamma': ['scale', 'auto']\n",
        "}\n",
        "\n",
        "print(\"Running SVM hyperparameter tuning on subset...\")\n",
        "svm_grid = GridSearchCV(SVC(probability=True), svm_params, cv=3, scoring='f1_macro', verbose=1, n_jobs=-1)\n",
        "svm_grid.fit(X_tune, y_tune)\n",
        "\n",
        "# Final Training\n",
        "best_svm_params = svm_grid.best_params_\n",
        "print(f\"Best SVM Params (from subset): {best_svm_params}\")\n",
        "\n",
        "print(\"Training final SVM model on full training set...\")\n",
        "svm_model = SVC(**best_svm_params, probability=True)\n",
        "svm_model.fit(X_train, y_train)\n",
        "\n",
        "# Save model\n",
        "joblib.dump(svm_model, os.path.join(MODEL_DIR, \"svm_model.joblib\"))\n",
        "print(\"Final SVM model saved.\")"
      ],
      "metadata": {
        "colab": {
          "base_uri": "https://localhost:8080/"
        },
        "id": "GNT4t1b7OsCr",
        "outputId": "99612780-3975-4f2a-ea2c-71a4e2f89078"
      },
      "execution_count": 14,
      "outputs": [
        {
          "output_type": "stream",
          "name": "stdout",
          "text": [
            "Running SVM hyperparameter tuning on subset...\n",
            "Fitting 3 folds for each of 12 candidates, totalling 36 fits\n"
          ]
        },
        {
          "output_type": "stream",
          "name": "stderr",
          "text": [
            "/usr/local/lib/python3.11/dist-packages/sklearn/model_selection/_split.py:805: UserWarning: The least populated class in y has only 1 members, which is less than n_splits=3.\n",
            "  warnings.warn(\n"
          ]
        },
        {
          "output_type": "stream",
          "name": "stdout",
          "text": [
            "Best SVM Params (from subset): {'C': 10, 'gamma': 'scale', 'kernel': 'rbf'}\n",
            "Training final SVM model on full training set...\n",
            "Final SVM model saved.\n"
          ]
        }
      ]
    },
    {
      "cell_type": "code",
      "source": [
        "# --- RF Grid ---\n",
        "rf_params = {\n",
        "    'n_estimators': [100, 200],\n",
        "    'max_depth': [None, 10, 20],\n",
        "    'min_samples_split': [2, 5]\n",
        "}\n",
        "rf_grid = GridSearchCV(RandomForestClassifier(random_state=42), rf_params, cv=3, scoring='f1_macro', verbose=1, n_jobs=-1)\n",
        "rf_grid.fit(X_train, y_train)\n",
        "rf_model = rf_grid.best_estimator_\n",
        "joblib.dump(rf_model, os.path.join(MODEL_DIR, \"rf_model.joblib\"))\n",
        "print(f\"Best RF Params: {rf_grid.best_params_}\")"
      ],
      "metadata": {
        "colab": {
          "base_uri": "https://localhost:8080/"
        },
        "id": "wys9iUH9Xe-l",
        "outputId": "7803562f-de47-41e4-aa56-9f2be2f81a7b"
      },
      "execution_count": null,
      "outputs": [
        {
          "output_type": "stream",
          "name": "stdout",
          "text": [
            "Fitting 3 folds for each of 12 candidates, totalling 36 fits\n"
          ]
        },
        {
          "output_type": "stream",
          "name": "stderr",
          "text": [
            "/usr/local/lib/python3.11/dist-packages/sklearn/model_selection/_split.py:805: UserWarning: The least populated class in y has only 2 members, which is less than n_splits=3.\n",
            "  warnings.warn(\n"
          ]
        }
      ]
    },
    {
      "cell_type": "code",
      "source": [
        "# Evaluate and Save\n",
        "def evaluate_and_save(model, name):\n",
        "    y_pred = model.predict(X_test)\n",
        "    report = classification_report(y_test, y_pred, output_dict=True)\n",
        "    matrix = confusion_matrix(y_test, y_pred)\n",
        "\n",
        "    joblib.dump(report, os.path.join(METRIC_DIR, f\"{name}_report.joblib\"))\n",
        "    np.save(os.path.join(METRIC_DIR, f\"{name}_confusion.npy\"), matrix)\n",
        "\n",
        "    plt.figure(figsize=(8,6))\n",
        "    plt.imshow(matrix, cmap='Blues')\n",
        "    plt.title(f\"{name} - Confusion Matrix\")\n",
        "    plt.xlabel(\"Predicted\")\n",
        "    plt.ylabel(\"Actual\")\n",
        "    plt.colorbar()\n",
        "    plt.savefig(os.path.join(PLOT_DIR, f\"{name}_confusion.png\"))\n",
        "    plt.close()\n",
        "\n",
        "evaluate_and_save(svm_model, \"SVM\")\n",
        "evaluate_and_save(rf_model, \"RandomForest\")"
      ],
      "metadata": {
        "id": "lTSOelNBPMpp"
      },
      "execution_count": null,
      "outputs": []
    },
    {
      "cell_type": "markdown",
      "source": [
        "# Uploading the artifacts folder to Drive"
      ],
      "metadata": {
        "id": "ju94pnUvk6C1"
      }
    },
    {
      "cell_type": "code",
      "source": [
        "from google.colab import drive\n",
        "drive.mount('/content/drive')"
      ],
      "metadata": {
        "colab": {
          "base_uri": "https://localhost:8080/"
        },
        "id": "BCa1T6Fvk5fl",
        "outputId": "18b070d3-e298-413c-da5c-ee46afa1494c"
      },
      "execution_count": 18,
      "outputs": [
        {
          "output_type": "stream",
          "name": "stdout",
          "text": [
            "Mounted at /content/drive\n"
          ]
        }
      ]
    },
    {
      "cell_type": "code",
      "source": [
        "!cp -r /content/su_baseline_artifacts /content/drive/MyDrive/"
      ],
      "metadata": {
        "id": "Wr8Qic5tlUNx"
      },
      "execution_count": 19,
      "outputs": []
    },
    {
      "cell_type": "code",
      "source": [
        "np.unique(y_train)"
      ],
      "metadata": {
        "colab": {
          "base_uri": "https://localhost:8080/"
        },
        "id": "ela1y1DxoeU8",
        "outputId": "5774bc66-0115-4755-be2a-ec2e7315e860"
      },
      "execution_count": 25,
      "outputs": [
        {
          "output_type": "execute_result",
          "data": {
            "text/plain": [
              "array(['ang', 'dis', 'exc', 'fea', 'fru', 'hap', 'neu', 'oth', 'sad',\n",
              "       'sur'], dtype='<U3')"
            ]
          },
          "metadata": {},
          "execution_count": 25
        }
      ]
    }
  ]
}