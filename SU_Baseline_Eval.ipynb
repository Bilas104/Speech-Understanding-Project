{
  "nbformat": 4,
  "nbformat_minor": 0,
  "metadata": {
    "colab": {
      "provenance": []
    },
    "kernelspec": {
      "name": "python3",
      "display_name": "Python 3"
    },
    "language_info": {
      "name": "python"
    }
  },
  "cells": [
    {
      "cell_type": "code",
      "source": [
        "from google.colab import drive\n",
        "drive.mount('/content/drive')"
      ],
      "metadata": {
        "colab": {
          "base_uri": "https://localhost:8080/"
        },
        "id": "Xcnzkm_fJLc-",
        "outputId": "1383346e-bb86-4b95-df94-68182502c9e4"
      },
      "execution_count": 1,
      "outputs": [
        {
          "output_type": "stream",
          "name": "stdout",
          "text": [
            "Drive already mounted at /content/drive; to attempt to forcibly remount, call drive.mount(\"/content/drive\", force_remount=True).\n"
          ]
        }
      ]
    },
    {
      "cell_type": "code",
      "source": [
        "import shutil\n",
        "\n",
        "drive_path = '/content/drive/MyDrive/su_baseline_artifacts'\n",
        "\n",
        "local_path = '/content/su_baseline_artifacts'\n",
        "\n",
        "# Copy the file\n",
        "shutil.copytree(drive_path, local_path)\n",
        "\n",
        "print(f\"File copied from {drive_path} to {local_path}\")"
      ],
      "metadata": {
        "colab": {
          "base_uri": "https://localhost:8080/",
          "height": 269
        },
        "id": "Ad9gDdPMJOBT",
        "outputId": "24c1316d-11d9-4437-8a3b-6b12e3fa1350"
      },
      "execution_count": 2,
      "outputs": [
        {
          "output_type": "error",
          "ename": "FileExistsError",
          "evalue": "[Errno 17] File exists: '/content/su_baseline_artifacts'",
          "traceback": [
            "\u001b[0;31m---------------------------------------------------------------------------\u001b[0m",
            "\u001b[0;31mFileExistsError\u001b[0m                           Traceback (most recent call last)",
            "\u001b[0;32m<ipython-input-2-b73d0c02151a>\u001b[0m in \u001b[0;36m<cell line: 0>\u001b[0;34m()\u001b[0m\n\u001b[1;32m      6\u001b[0m \u001b[0;34m\u001b[0m\u001b[0m\n\u001b[1;32m      7\u001b[0m \u001b[0;31m# Copy the file\u001b[0m\u001b[0;34m\u001b[0m\u001b[0;34m\u001b[0m\u001b[0m\n\u001b[0;32m----> 8\u001b[0;31m \u001b[0mshutil\u001b[0m\u001b[0;34m.\u001b[0m\u001b[0mcopytree\u001b[0m\u001b[0;34m(\u001b[0m\u001b[0mdrive_path\u001b[0m\u001b[0;34m,\u001b[0m \u001b[0mlocal_path\u001b[0m\u001b[0;34m)\u001b[0m\u001b[0;34m\u001b[0m\u001b[0;34m\u001b[0m\u001b[0m\n\u001b[0m\u001b[1;32m      9\u001b[0m \u001b[0;34m\u001b[0m\u001b[0m\n\u001b[1;32m     10\u001b[0m \u001b[0mprint\u001b[0m\u001b[0;34m(\u001b[0m\u001b[0;34mf\"File copied from {drive_path} to {local_path}\"\u001b[0m\u001b[0;34m)\u001b[0m\u001b[0;34m\u001b[0m\u001b[0;34m\u001b[0m\u001b[0m\n",
            "\u001b[0;32m/usr/lib/python3.11/shutil.py\u001b[0m in \u001b[0;36mcopytree\u001b[0;34m(src, dst, symlinks, ignore, copy_function, ignore_dangling_symlinks, dirs_exist_ok)\u001b[0m\n\u001b[1;32m    571\u001b[0m     \u001b[0;32mwith\u001b[0m \u001b[0mos\u001b[0m\u001b[0;34m.\u001b[0m\u001b[0mscandir\u001b[0m\u001b[0;34m(\u001b[0m\u001b[0msrc\u001b[0m\u001b[0;34m)\u001b[0m \u001b[0;32mas\u001b[0m \u001b[0mitr\u001b[0m\u001b[0;34m:\u001b[0m\u001b[0;34m\u001b[0m\u001b[0;34m\u001b[0m\u001b[0m\n\u001b[1;32m    572\u001b[0m         \u001b[0mentries\u001b[0m \u001b[0;34m=\u001b[0m \u001b[0mlist\u001b[0m\u001b[0;34m(\u001b[0m\u001b[0mitr\u001b[0m\u001b[0;34m)\u001b[0m\u001b[0;34m\u001b[0m\u001b[0;34m\u001b[0m\u001b[0m\n\u001b[0;32m--> 573\u001b[0;31m     return _copytree(entries=entries, src=src, dst=dst, symlinks=symlinks,\n\u001b[0m\u001b[1;32m    574\u001b[0m                      \u001b[0mignore\u001b[0m\u001b[0;34m=\u001b[0m\u001b[0mignore\u001b[0m\u001b[0;34m,\u001b[0m \u001b[0mcopy_function\u001b[0m\u001b[0;34m=\u001b[0m\u001b[0mcopy_function\u001b[0m\u001b[0;34m,\u001b[0m\u001b[0;34m\u001b[0m\u001b[0;34m\u001b[0m\u001b[0m\n\u001b[1;32m    575\u001b[0m                      \u001b[0mignore_dangling_symlinks\u001b[0m\u001b[0;34m=\u001b[0m\u001b[0mignore_dangling_symlinks\u001b[0m\u001b[0;34m,\u001b[0m\u001b[0;34m\u001b[0m\u001b[0;34m\u001b[0m\u001b[0m\n",
            "\u001b[0;32m/usr/lib/python3.11/shutil.py\u001b[0m in \u001b[0;36m_copytree\u001b[0;34m(entries, src, dst, symlinks, ignore, copy_function, ignore_dangling_symlinks, dirs_exist_ok)\u001b[0m\n\u001b[1;32m    469\u001b[0m         \u001b[0mignored_names\u001b[0m \u001b[0;34m=\u001b[0m \u001b[0;34m(\u001b[0m\u001b[0;34m)\u001b[0m\u001b[0;34m\u001b[0m\u001b[0;34m\u001b[0m\u001b[0m\n\u001b[1;32m    470\u001b[0m \u001b[0;34m\u001b[0m\u001b[0m\n\u001b[0;32m--> 471\u001b[0;31m     \u001b[0mos\u001b[0m\u001b[0;34m.\u001b[0m\u001b[0mmakedirs\u001b[0m\u001b[0;34m(\u001b[0m\u001b[0mdst\u001b[0m\u001b[0;34m,\u001b[0m \u001b[0mexist_ok\u001b[0m\u001b[0;34m=\u001b[0m\u001b[0mdirs_exist_ok\u001b[0m\u001b[0;34m)\u001b[0m\u001b[0;34m\u001b[0m\u001b[0;34m\u001b[0m\u001b[0m\n\u001b[0m\u001b[1;32m    472\u001b[0m     \u001b[0merrors\u001b[0m \u001b[0;34m=\u001b[0m \u001b[0;34m[\u001b[0m\u001b[0;34m]\u001b[0m\u001b[0;34m\u001b[0m\u001b[0;34m\u001b[0m\u001b[0m\n\u001b[1;32m    473\u001b[0m     \u001b[0muse_srcentry\u001b[0m \u001b[0;34m=\u001b[0m \u001b[0mcopy_function\u001b[0m \u001b[0;32mis\u001b[0m \u001b[0mcopy2\u001b[0m \u001b[0;32mor\u001b[0m \u001b[0mcopy_function\u001b[0m \u001b[0;32mis\u001b[0m \u001b[0mcopy\u001b[0m\u001b[0;34m\u001b[0m\u001b[0;34m\u001b[0m\u001b[0m\n",
            "\u001b[0;32m/usr/lib/python3.11/os.py\u001b[0m in \u001b[0;36mmakedirs\u001b[0;34m(name, mode, exist_ok)\u001b[0m\n",
            "\u001b[0;31mFileExistsError\u001b[0m: [Errno 17] File exists: '/content/su_baseline_artifacts'"
          ]
        }
      ]
    },
    {
      "cell_type": "code",
      "source": [
        "!pip install fpdf"
      ],
      "metadata": {
        "id": "eEOXIwA4KJKk"
      },
      "execution_count": null,
      "outputs": []
    },
    {
      "cell_type": "code",
      "execution_count": null,
      "metadata": {
        "id": "-0sMc6FdIzb5"
      },
      "outputs": [],
      "source": [
        "import os\n",
        "import numpy as np\n",
        "import joblib\n",
        "import matplotlib.pyplot as plt\n",
        "import pandas as pd\n",
        "from collections import Counter\n",
        "from report_generator import plot_radar, generate_pdf\n",
        "\n",
        "# Load data\n",
        "X = np.load(\"/content/su_baseline_artifacts/features/X.npy\", allow_pickle=True)\n",
        "y = np.load(\"/content/su_baseline_artifacts/features/y.npy\", allow_pickle=True)\n",
        "speakers = np.load(\"speakers.npy\", allow_pickle=True)\n",
        "\n",
        "# Load model (choose either RF or SVM)\n",
        "MODEL_PATH = \"su_baseline_artifacts/models/rf_model.joblib\"\n",
        "model = joblib.load(MODEL_PATH)\n",
        "model_name = os.path.basename(MODEL_PATH).split(\".\")[0]\n",
        "\n",
        "# Emotion to trait mapping\n",
        "emotion_to_trait_map = {\n",
        "    'angry':      [0.4, 0.4, 0.5, 0.2, 0.8],\n",
        "    'happy':      [0.7, 0.5, 0.9, 0.8, 0.3],\n",
        "    'sad':        [0.3, 0.5, 0.2, 0.4, 0.9],\n",
        "    'neutral':    [0.5, 0.5, 0.5, 0.5, 0.5],\n",
        "    'frustrated': [0.3, 0.3, 0.4, 0.3, 0.8],\n",
        "    'excited':    [0.8, 0.6, 0.9, 0.7, 0.4],\n",
        "    'fearful':    [0.3, 0.4, 0.3, 0.3, 0.9],\n",
        "    'disgusted':  [0.4, 0.4, 0.3, 0.2, 0.8],\n",
        "    'surprised':  [0.7, 0.4, 0.8, 0.6, 0.4],\n",
        "    'other':      [0.5, 0.5, 0.5, 0.5, 0.5]\n",
        "}\n",
        "\n",
        "# Predict\n",
        "y_pred = model.predict(X)\n",
        "\n",
        "# Output directory\n",
        "OUTPUT_DIR = \"val_reports\"\n",
        "os.makedirs(OUTPUT_DIR, exist_ok=True)\n",
        "\n",
        "# Generate reports\n",
        "summary = []\n",
        "\n",
        "for i, (true_label, pred_label, speaker) in enumerate(zip(y, y_pred, speakers)):\n",
        "    audio_id = f\"sample_{i}\"\n",
        "    true_traits = emotion_to_trait_map.get(true_label, [0.5]*5)\n",
        "    pred_traits = emotion_to_trait_map.get(pred_label, [0.5]*5)\n",
        "\n",
        "    # Radar plot\n",
        "    fig, ax = plt.subplots(figsize=(6, 6), subplot_kw=dict(polar=True))\n",
        "    labels = [\"O\", \"C\", \"E\", \"A\", \"N\"]\n",
        "    angles = np.linspace(0, 2 * np.pi, len(labels) + 1)\n",
        "\n",
        "    pred_vals = pred_traits + [pred_traits[0]]\n",
        "    true_vals = true_traits + [true_traits[0]]\n",
        "\n",
        "    ax.plot(angles, pred_vals, label=\"Predicted\", color='blue')\n",
        "    ax.fill(angles, pred_vals, alpha=0.25, color='blue')\n",
        "\n",
        "    ax.plot(angles, true_vals, label=\"Actual\", color='green')\n",
        "    ax.fill(angles, true_vals, alpha=0.25, color='green')\n",
        "\n",
        "    ax.set_xticks(angles[:-1])\n",
        "    ax.set_xticklabels(labels)\n",
        "    ax.set_title(f\"Personality Prediction: {audio_id}\")\n",
        "    ax.legend(loc=\"upper right\")\n",
        "\n",
        "    report_path = os.path.join(OUTPUT_DIR, f\"{audio_id}_report.pdf\")\n",
        "    generate_pdf(pred_traits, fig, output_path=report_path)\n",
        "\n",
        "    summary.append({\n",
        "        \"audio_id\": audio_id,\n",
        "        \"speaker\": speaker,\n",
        "        \"true_label\": true_label,\n",
        "        \"predicted_label\": pred_label\n",
        "    })\n",
        "\n",
        "# Save CSV\n",
        "summary_df = pd.DataFrame(summary)\n",
        "summary_df.to_csv(os.path.join(OUTPUT_DIR, \"summary.csv\"), index=False)\n",
        "print(\"Evaluation complete. Summary CSV saved.\")"
      ]
    }
  ]
}